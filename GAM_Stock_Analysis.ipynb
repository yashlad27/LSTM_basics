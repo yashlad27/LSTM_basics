{
 "cells": [
  {
   "cell_type": "code",
   "execution_count": 2,
   "metadata": {},
   "outputs": [],
   "source": [
    "import numpy as np\n",
    "import pandas as pd\n",
    "import os\n",
    "import math\n",
    "import matplotlib.pyplot as plt\n",
    "import plotly.express as px\n",
    "import plotly.graph_objects as go\n",
    "import plotly.express as px\n",
    "from plotly.subplots import make_subplots\n",
    "from sklearn.linear_model import LinearRegression\n",
    "%matplotlib inline\n",
    "\n",
    "import warnings\n",
    "warnings.filterwarnings(\"ignore\")"
   ]
  },
  {
   "cell_type": "code",
   "execution_count": 3,
   "outputs": [
    {
     "name": "stdout",
     "output_type": "stream",
     "text": [
      "Apple Stock Prices \n",
      "----------------\n"
     ]
    },
    {
     "data": {
      "text/plain": "         Date       Open       High        Low      Close  Adj Close  \\\n0  2017-09-07  40.522499  40.560001  40.090000  40.314999  38.261566   \n1  2017-09-08  40.215000  40.287498  39.632500  39.657501  37.637562   \n2  2017-09-11  40.125000  40.512501  39.972500  40.375000  38.318501   \n3  2017-09-12  40.652500  40.990002  39.692501  40.215000  38.166664   \n4  2017-09-13  39.967499  39.990002  39.477501  39.912498  37.879570   \n\n      Volume  \n0   87714000  \n1  114446000  \n2  126323200  \n3  286856000  \n4  179629600  ",
      "text/html": "<div>\n<style scoped>\n    .dataframe tbody tr th:only-of-type {\n        vertical-align: middle;\n    }\n\n    .dataframe tbody tr th {\n        vertical-align: top;\n    }\n\n    .dataframe thead th {\n        text-align: right;\n    }\n</style>\n<table border=\"1\" class=\"dataframe\">\n  <thead>\n    <tr style=\"text-align: right;\">\n      <th></th>\n      <th>Date</th>\n      <th>Open</th>\n      <th>High</th>\n      <th>Low</th>\n      <th>Close</th>\n      <th>Adj Close</th>\n      <th>Volume</th>\n    </tr>\n  </thead>\n  <tbody>\n    <tr>\n      <th>0</th>\n      <td>2017-09-07</td>\n      <td>40.522499</td>\n      <td>40.560001</td>\n      <td>40.090000</td>\n      <td>40.314999</td>\n      <td>38.261566</td>\n      <td>87714000</td>\n    </tr>\n    <tr>\n      <th>1</th>\n      <td>2017-09-08</td>\n      <td>40.215000</td>\n      <td>40.287498</td>\n      <td>39.632500</td>\n      <td>39.657501</td>\n      <td>37.637562</td>\n      <td>114446000</td>\n    </tr>\n    <tr>\n      <th>2</th>\n      <td>2017-09-11</td>\n      <td>40.125000</td>\n      <td>40.512501</td>\n      <td>39.972500</td>\n      <td>40.375000</td>\n      <td>38.318501</td>\n      <td>126323200</td>\n    </tr>\n    <tr>\n      <th>3</th>\n      <td>2017-09-12</td>\n      <td>40.652500</td>\n      <td>40.990002</td>\n      <td>39.692501</td>\n      <td>40.215000</td>\n      <td>38.166664</td>\n      <td>286856000</td>\n    </tr>\n    <tr>\n      <th>4</th>\n      <td>2017-09-13</td>\n      <td>39.967499</td>\n      <td>39.990002</td>\n      <td>39.477501</td>\n      <td>39.912498</td>\n      <td>37.879570</td>\n      <td>179629600</td>\n    </tr>\n  </tbody>\n</table>\n</div>"
     },
     "metadata": {},
     "output_type": "display_data"
    },
    {
     "name": "stdout",
     "output_type": "stream",
     "text": [
      "Google Stock Prices \n",
      "---------------\n"
     ]
    },
    {
     "data": {
      "text/plain": "         Date       Open       High        Low      Close  Adj Close    Volume\n0  2017-09-07  46.586498  46.820499  46.181000  46.797501  46.797501  24254000\n1  2017-09-08  46.824501  46.849499  46.243999  46.325001  46.325001  20230000\n2  2017-09-11  46.712502  46.918999  46.346001  46.453999  46.453999  25340000\n3  2017-09-12  46.629501  46.674000  46.193050  46.603500  46.603500  22688000\n4  2017-09-13  46.533001  46.862499  46.493000  46.754501  46.754501  22052000",
      "text/html": "<div>\n<style scoped>\n    .dataframe tbody tr th:only-of-type {\n        vertical-align: middle;\n    }\n\n    .dataframe tbody tr th {\n        vertical-align: top;\n    }\n\n    .dataframe thead th {\n        text-align: right;\n    }\n</style>\n<table border=\"1\" class=\"dataframe\">\n  <thead>\n    <tr style=\"text-align: right;\">\n      <th></th>\n      <th>Date</th>\n      <th>Open</th>\n      <th>High</th>\n      <th>Low</th>\n      <th>Close</th>\n      <th>Adj Close</th>\n      <th>Volume</th>\n    </tr>\n  </thead>\n  <tbody>\n    <tr>\n      <th>0</th>\n      <td>2017-09-07</td>\n      <td>46.586498</td>\n      <td>46.820499</td>\n      <td>46.181000</td>\n      <td>46.797501</td>\n      <td>46.797501</td>\n      <td>24254000</td>\n    </tr>\n    <tr>\n      <th>1</th>\n      <td>2017-09-08</td>\n      <td>46.824501</td>\n      <td>46.849499</td>\n      <td>46.243999</td>\n      <td>46.325001</td>\n      <td>46.325001</td>\n      <td>20230000</td>\n    </tr>\n    <tr>\n      <th>2</th>\n      <td>2017-09-11</td>\n      <td>46.712502</td>\n      <td>46.918999</td>\n      <td>46.346001</td>\n      <td>46.453999</td>\n      <td>46.453999</td>\n      <td>25340000</td>\n    </tr>\n    <tr>\n      <th>3</th>\n      <td>2017-09-12</td>\n      <td>46.629501</td>\n      <td>46.674000</td>\n      <td>46.193050</td>\n      <td>46.603500</td>\n      <td>46.603500</td>\n      <td>22688000</td>\n    </tr>\n    <tr>\n      <th>4</th>\n      <td>2017-09-13</td>\n      <td>46.533001</td>\n      <td>46.862499</td>\n      <td>46.493000</td>\n      <td>46.754501</td>\n      <td>46.754501</td>\n      <td>22052000</td>\n    </tr>\n  </tbody>\n</table>\n</div>"
     },
     "metadata": {},
     "output_type": "display_data"
    },
    {
     "name": "stdout",
     "output_type": "stream",
     "text": [
      "Meta Stock Prices \n",
      "-----------------\n"
     ]
    },
    {
     "data": {
      "text/plain": "         Date        Open        High         Low       Close   Adj Close  \\\n0  2017-09-07  171.940002  173.309998  170.270004  173.210007  173.210007   \n1  2017-09-08  173.089996  173.490005  170.800003  170.949997  170.949997   \n2  2017-09-11  172.399994  173.889999  172.199997  173.509995  173.509995   \n3  2017-09-12  173.759995  174.000000  171.750000  172.960007  172.960007   \n4  2017-09-13  173.009995  173.169998  172.059998  173.050003  173.050003   \n\n     Volume  \n0  18049500  \n1  10998500  \n2  12372000  \n3  11186300  \n4   9119300  ",
      "text/html": "<div>\n<style scoped>\n    .dataframe tbody tr th:only-of-type {\n        vertical-align: middle;\n    }\n\n    .dataframe tbody tr th {\n        vertical-align: top;\n    }\n\n    .dataframe thead th {\n        text-align: right;\n    }\n</style>\n<table border=\"1\" class=\"dataframe\">\n  <thead>\n    <tr style=\"text-align: right;\">\n      <th></th>\n      <th>Date</th>\n      <th>Open</th>\n      <th>High</th>\n      <th>Low</th>\n      <th>Close</th>\n      <th>Adj Close</th>\n      <th>Volume</th>\n    </tr>\n  </thead>\n  <tbody>\n    <tr>\n      <th>0</th>\n      <td>2017-09-07</td>\n      <td>171.940002</td>\n      <td>173.309998</td>\n      <td>170.270004</td>\n      <td>173.210007</td>\n      <td>173.210007</td>\n      <td>18049500</td>\n    </tr>\n    <tr>\n      <th>1</th>\n      <td>2017-09-08</td>\n      <td>173.089996</td>\n      <td>173.490005</td>\n      <td>170.800003</td>\n      <td>170.949997</td>\n      <td>170.949997</td>\n      <td>10998500</td>\n    </tr>\n    <tr>\n      <th>2</th>\n      <td>2017-09-11</td>\n      <td>172.399994</td>\n      <td>173.889999</td>\n      <td>172.199997</td>\n      <td>173.509995</td>\n      <td>173.509995</td>\n      <td>12372000</td>\n    </tr>\n    <tr>\n      <th>3</th>\n      <td>2017-09-12</td>\n      <td>173.759995</td>\n      <td>174.000000</td>\n      <td>171.750000</td>\n      <td>172.960007</td>\n      <td>172.960007</td>\n      <td>11186300</td>\n    </tr>\n    <tr>\n      <th>4</th>\n      <td>2017-09-13</td>\n      <td>173.009995</td>\n      <td>173.169998</td>\n      <td>172.059998</td>\n      <td>173.050003</td>\n      <td>173.050003</td>\n      <td>9119300</td>\n    </tr>\n  </tbody>\n</table>\n</div>"
     },
     "metadata": {},
     "output_type": "display_data"
    }
   ],
   "source": [
    "# load data:\n",
    "df_apple = pd.read_csv(\"Datasets/GAM/AAPL.csv\")\n",
    "\n",
    "df_google = pd.read_csv(\"Datasets/GAM/GOOG.csv\")\n",
    "\n",
    "df_meta = pd.read_csv(\"Datasets/GAM/META.csv\")\n",
    "\n",
    "print('Apple Stock Prices \\n----------------')\n",
    "display(df_apple.head())\n",
    "\n",
    "print(\"Google Stock Prices \\n---------------\")\n",
    "display(df_google.head())\n",
    "\n",
    "print(\"Meta Stock Prices \\n-----------------\")\n",
    "display(df_meta.head())"
   ],
   "metadata": {
    "collapsed": false
   }
  },
  {
   "cell_type": "markdown",
   "source": [
    "## Stock terminologies:\n",
    "1. Open: The price of stock at the beginning of the trading day\n",
    "2. High: The highest price of the stock on a trading day\n",
    "3. Low: Lowest price of stock on a trading day\n",
    "4. Close: last price of the stock before the trading day ends\n",
    "5. Volume: Amount of stocks that changed hands over the course of a day"
   ],
   "metadata": {
    "collapsed": false
   }
  },
  {
   "cell_type": "markdown",
   "source": [
    "# Data Analysis"
   ],
   "metadata": {
    "collapsed": false
   }
  },
  {
   "cell_type": "code",
   "execution_count": 4,
   "outputs": [
    {
     "name": "stdout",
     "output_type": "stream",
     "text": [
      "Apple Stock prices: \n",
      "\n",
      "Null Values:  0\n",
      "NA Values:  False\n",
      "---------------------------\n",
      "\n",
      "Google Stock prices: \n",
      "\n",
      "Null Values:  0\n",
      "NA Values:  False\n",
      "---------------------------\n",
      "\n",
      "META Stock prices: \n",
      "\n",
      "Null Values:  0\n",
      "NA Values:  False\n",
      "---------------------------\n",
      "\n"
     ]
    }
   ],
   "source": [
    "# check for null values:\n",
    "print(\"Apple Stock prices: \\n\")\n",
    "print(\"Null Values: \", df_apple.isnull().values.sum())\n",
    "print(\"NA Values: \", df_apple.isna().values.any())\n",
    "\n",
    "print(\"---------------------------\\n\")\n",
    "\n",
    "print(\"Google Stock prices: \\n\")\n",
    "print(\"Null Values: \", df_google.isnull().values.sum())\n",
    "print(\"NA Values: \", df_google.isna().values.any())\n",
    "\n",
    "print(\"---------------------------\\n\")\n",
    "\n",
    "print(\"META Stock prices: \\n\")\n",
    "print(\"Null Values: \", df_meta.isnull().values.sum())\n",
    "print(\"NA Values: \", df_meta.isna().values.any())\n",
    "\n",
    "print(\"---------------------------\\n\")"
   ],
   "metadata": {
    "collapsed": false
   }
  },
  {
   "cell_type": "code",
   "execution_count": 5,
   "outputs": [
    {
     "name": "stdout",
     "output_type": "stream",
     "text": [
      "Apple Stock OPEN Prices\n",
      "---------------------------\n"
     ]
    },
    {
     "data": {
      "text/plain": "         Date       Open\n0  2017-09-07  40.522499\n1  2017-09-08  40.215000\n2  2017-09-11  40.125000\n3  2017-09-12  40.652500\n4  2017-09-13  39.967499",
      "text/html": "<div>\n<style scoped>\n    .dataframe tbody tr th:only-of-type {\n        vertical-align: middle;\n    }\n\n    .dataframe tbody tr th {\n        vertical-align: top;\n    }\n\n    .dataframe thead th {\n        text-align: right;\n    }\n</style>\n<table border=\"1\" class=\"dataframe\">\n  <thead>\n    <tr style=\"text-align: right;\">\n      <th></th>\n      <th>Date</th>\n      <th>Open</th>\n    </tr>\n  </thead>\n  <tbody>\n    <tr>\n      <th>0</th>\n      <td>2017-09-07</td>\n      <td>40.522499</td>\n    </tr>\n    <tr>\n      <th>1</th>\n      <td>2017-09-08</td>\n      <td>40.215000</td>\n    </tr>\n    <tr>\n      <th>2</th>\n      <td>2017-09-11</td>\n      <td>40.125000</td>\n    </tr>\n    <tr>\n      <th>3</th>\n      <td>2017-09-12</td>\n      <td>40.652500</td>\n    </tr>\n    <tr>\n      <th>4</th>\n      <td>2017-09-13</td>\n      <td>39.967499</td>\n    </tr>\n  </tbody>\n</table>\n</div>"
     },
     "metadata": {},
     "output_type": "display_data"
    },
    {
     "name": "stdout",
     "output_type": "stream",
     "text": [
      "Google Stock OPEN Prices\n",
      "---------------------------\n"
     ]
    },
    {
     "data": {
      "text/plain": "         Date       Open\n0  2017-09-07  46.586498\n1  2017-09-08  46.824501\n2  2017-09-11  46.712502\n3  2017-09-12  46.629501\n4  2017-09-13  46.533001",
      "text/html": "<div>\n<style scoped>\n    .dataframe tbody tr th:only-of-type {\n        vertical-align: middle;\n    }\n\n    .dataframe tbody tr th {\n        vertical-align: top;\n    }\n\n    .dataframe thead th {\n        text-align: right;\n    }\n</style>\n<table border=\"1\" class=\"dataframe\">\n  <thead>\n    <tr style=\"text-align: right;\">\n      <th></th>\n      <th>Date</th>\n      <th>Open</th>\n    </tr>\n  </thead>\n  <tbody>\n    <tr>\n      <th>0</th>\n      <td>2017-09-07</td>\n      <td>46.586498</td>\n    </tr>\n    <tr>\n      <th>1</th>\n      <td>2017-09-08</td>\n      <td>46.824501</td>\n    </tr>\n    <tr>\n      <th>2</th>\n      <td>2017-09-11</td>\n      <td>46.712502</td>\n    </tr>\n    <tr>\n      <th>3</th>\n      <td>2017-09-12</td>\n      <td>46.629501</td>\n    </tr>\n    <tr>\n      <th>4</th>\n      <td>2017-09-13</td>\n      <td>46.533001</td>\n    </tr>\n  </tbody>\n</table>\n</div>"
     },
     "metadata": {},
     "output_type": "display_data"
    },
    {
     "name": "stdout",
     "output_type": "stream",
     "text": [
      "Meta Stock OPEN Prices\n",
      "---------------------------\n"
     ]
    },
    {
     "data": {
      "text/plain": "         Date        Open\n0  2017-09-07  171.940002\n1  2017-09-08  173.089996\n2  2017-09-11  172.399994\n3  2017-09-12  173.759995\n4  2017-09-13  173.009995",
      "text/html": "<div>\n<style scoped>\n    .dataframe tbody tr th:only-of-type {\n        vertical-align: middle;\n    }\n\n    .dataframe tbody tr th {\n        vertical-align: top;\n    }\n\n    .dataframe thead th {\n        text-align: right;\n    }\n</style>\n<table border=\"1\" class=\"dataframe\">\n  <thead>\n    <tr style=\"text-align: right;\">\n      <th></th>\n      <th>Date</th>\n      <th>Open</th>\n    </tr>\n  </thead>\n  <tbody>\n    <tr>\n      <th>0</th>\n      <td>2017-09-07</td>\n      <td>171.940002</td>\n    </tr>\n    <tr>\n      <th>1</th>\n      <td>2017-09-08</td>\n      <td>173.089996</td>\n    </tr>\n    <tr>\n      <th>2</th>\n      <td>2017-09-11</td>\n      <td>172.399994</td>\n    </tr>\n    <tr>\n      <th>3</th>\n      <td>2017-09-12</td>\n      <td>173.759995</td>\n    </tr>\n    <tr>\n      <th>4</th>\n      <td>2017-09-13</td>\n      <td>173.009995</td>\n    </tr>\n  </tbody>\n</table>\n</div>"
     },
     "metadata": {},
     "output_type": "display_data"
    }
   ],
   "source": [
    "# checking each company's opening price:\n",
    "data_a = df_apple[['Date', 'Open']]\n",
    "data_g = df_google[['Date', 'Open']]\n",
    "data_m = df_meta[['Date', 'Open']]\n",
    "\n",
    "print('Apple Stock OPEN Prices\\n---------------------------')\n",
    "display(data_a.head())\n",
    "print('Google Stock OPEN Prices\\n---------------------------')\n",
    "display(data_g.head())\n",
    "print('Meta Stock OPEN Prices\\n---------------------------')\n",
    "display(data_m.head())"
   ],
   "metadata": {
    "collapsed": false
   }
  },
  {
   "cell_type": "code",
   "execution_count": 6,
   "outputs": [
    {
     "data": {
      "text/plain": "        Date  APPL_Open  GOOG_Open   META_Open\n0 2017-09-07  40.522499  46.586498  171.940002\n1 2017-09-08  40.215000  46.824501  173.089996\n2 2017-09-11  40.125000  46.712502  172.399994\n3 2017-09-12  40.652500  46.629501  173.759995\n4 2017-09-13  39.967499  46.533001  173.009995",
      "text/html": "<div>\n<style scoped>\n    .dataframe tbody tr th:only-of-type {\n        vertical-align: middle;\n    }\n\n    .dataframe tbody tr th {\n        vertical-align: top;\n    }\n\n    .dataframe thead th {\n        text-align: right;\n    }\n</style>\n<table border=\"1\" class=\"dataframe\">\n  <thead>\n    <tr style=\"text-align: right;\">\n      <th></th>\n      <th>Date</th>\n      <th>APPL_Open</th>\n      <th>GOOG_Open</th>\n      <th>META_Open</th>\n    </tr>\n  </thead>\n  <tbody>\n    <tr>\n      <th>0</th>\n      <td>2017-09-07</td>\n      <td>40.522499</td>\n      <td>46.586498</td>\n      <td>171.940002</td>\n    </tr>\n    <tr>\n      <th>1</th>\n      <td>2017-09-08</td>\n      <td>40.215000</td>\n      <td>46.824501</td>\n      <td>173.089996</td>\n    </tr>\n    <tr>\n      <th>2</th>\n      <td>2017-09-11</td>\n      <td>40.125000</td>\n      <td>46.712502</td>\n      <td>172.399994</td>\n    </tr>\n    <tr>\n      <th>3</th>\n      <td>2017-09-12</td>\n      <td>40.652500</td>\n      <td>46.629501</td>\n      <td>173.759995</td>\n    </tr>\n    <tr>\n      <th>4</th>\n      <td>2017-09-13</td>\n      <td>39.967499</td>\n      <td>46.533001</td>\n      <td>173.009995</td>\n    </tr>\n  </tbody>\n</table>\n</div>"
     },
     "metadata": {},
     "output_type": "display_data"
    },
    {
     "name": "stdout",
     "output_type": "stream",
     "text": [
      "Total number of trading days:  1258\n"
     ]
    }
   ],
   "source": [
    "# Merge multiple dataframes into one:\n",
    "df_merge = pd.merge(data_a, data_g, on='Date', how='left')\n",
    "df_merge = pd.merge(df_merge, data_m, on='Date', how='left')\n",
    "df_merge.columns = ['Date', 'APPL_Open', 'GOOG_Open', 'META_Open']\n",
    "\n",
    "# Convert dtype of the 'Date' Column:\n",
    "df_merge['Date'] = df_merge['Date'].apply(pd.to_datetime)\n",
    "\n",
    "# display the dataframe:\n",
    "display(df_merge.head())\n",
    "print('Total number of trading days: ', df_merge.shape[0])"
   ],
   "metadata": {
    "collapsed": false
   }
  },
  {
   "cell_type": "code",
   "execution_count": null,
   "outputs": [],
   "source": [],
   "metadata": {
    "collapsed": false
   }
  }
 ],
 "metadata": {
  "kernelspec": {
   "display_name": "Python 3",
   "language": "python",
   "name": "python3"
  },
  "language_info": {
   "codemirror_mode": {
    "name": "ipython",
    "version": 3
   },
   "file_extension": ".py",
   "mimetype": "text/x-python",
   "name": "python",
   "nbconvert_exporter": "python",
   "pygments_lexer": "ipython3",
   "version": "3.10.7"
  },
  "orig_nbformat": 4,
  "vscode": {
   "interpreter": {
    "hash": "aee8b7b246df8f9039afb4144a1f6fd8d2ca17a180786b69acc140d282b71a49"
   }
  }
 },
 "nbformat": 4,
 "nbformat_minor": 2
}
